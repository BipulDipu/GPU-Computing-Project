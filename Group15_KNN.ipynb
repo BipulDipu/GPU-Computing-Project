{
  "nbformat": 4,
  "nbformat_minor": 0,
  "metadata": {
    "colab": {
      "provenance": [],
      "machine_shape": "hm",
      "gpuType": "T4"
    },
    "kernelspec": {
      "name": "python3",
      "display_name": "Python 3"
    },
    "language_info": {
      "name": "python"
    },
    "accelerator": "GPU"
  },
  "cells": [
    {
      "cell_type": "markdown",
      "source": [
        "*Step* 1: Data Preparation\n"
      ],
      "metadata": {
        "id": "k1x33lzPqO5D"
      }
    },
    {
      "cell_type": "code",
      "source": [
        "import pandas as pd\n",
        "import cupy as cp\n",
        "import numpy as np\n",
        "import time\n",
        "from sklearn.model_selection import train_test_split\n",
        "\n",
        "# Load the dataset\n",
        "data_path = '/content/MLoGPU_data1_train.csv'\n",
        "df = pd.read_csv(data_path)\n",
        "\n",
        "# Convert the dataset to CuPy arrays\n",
        "X_gpu = cp.asarray(df.iloc[:, :-1].values)\n",
        "y_gpu = cp.asarray(df.iloc[:, -1].values)\n",
        "\n",
        "# Calculate the mean and standard deviation for each feature using CuPy\n",
        "mean_gpu = cp.mean(X_gpu, axis=0)\n",
        "std_dev_gpu = cp.std(X_gpu, axis=0)\n",
        "\n",
        "# Standardize the features manually using CuPy\n",
        "X_scaled_gpu = (X_gpu - mean_gpu) / std_dev_gpu\n",
        "\n",
        "# Convert scaled features and labels back to NumPy arrays for train_test_split\n",
        "X_scaled = cp.asnumpy(X_scaled_gpu)\n",
        "y = cp.asnumpy(y_gpu)\n",
        "\n",
        "# Split into training and test sets\n",
        "X_train, X_test, y_train, y_test = train_test_split(X_scaled, y, test_size=0.2, random_state=42)\n",
        "\n",
        "# Convert the split data back to CuPy arrays for further GPU computation\n",
        "X_train_gpu = cp.asarray(X_train)\n",
        "X_test_gpu = cp.asarray(X_test)\n",
        "y_train_gpu = cp.asarray(y_train, dtype=cp.int32)\n",
        "y_test_gpu = cp.asarray(y_test, dtype=cp.int32)\n"
      ],
      "metadata": {
        "id": "p3c9Yh-bp4lT"
      },
      "execution_count": 1,
      "outputs": []
    },
    {
      "cell_type": "markdown",
      "source": [
        "Step 2:Kernel"
      ],
      "metadata": {
        "id": "4vNUiXLLqRBn"
      }
    },
    {
      "cell_type": "code",
      "source": [
        "# Define CUDA kernel for computing distances\n",
        "from cupy import RawKernel\n",
        "kernel_code = '''\n",
        "extern \"C\" __global__\n",
        "void compute_distances(const float* X, const float* Y, float* D, int num_rows_x, int num_rows_y, int num_cols) {\n",
        "    int i = blockDim.x * blockIdx.x + threadIdx.x;\n",
        "    int j = blockDim.y * blockIdx.y + threadIdx.y;\n",
        "\n",
        "    if (i < num_rows_x && j < num_rows_y) {\n",
        "        float distance = 0;\n",
        "        for (int k = 0; k < num_cols; ++k) {\n",
        "            float diff = X[i * num_cols + k] - Y[j * num_cols + k];\n",
        "            distance += diff * diff;\n",
        "        }\n",
        "        D[i * num_rows_y + j] = sqrt(distance);\n",
        "    }\n",
        "}\n",
        "'''"
      ],
      "metadata": {
        "id": "eZliTyMAp4Pq"
      },
      "execution_count": 2,
      "outputs": []
    },
    {
      "cell_type": "markdown",
      "source": [
        "Step 3: Compute distances"
      ],
      "metadata": {
        "id": "6Ix4cWWSqUUZ"
      }
    },
    {
      "cell_type": "code",
      "source": [
        "compute_distances = RawKernel(kernel_code, 'compute_distances')\n",
        "\n",
        "# Function to compute distances on GPU\n",
        "def compute_distances_gpu(X, Y):\n",
        "    num_rows_x, num_cols_x = X.shape\n",
        "    num_rows_y, num_cols_y = Y.shape\n",
        "    D = cp.zeros((num_rows_x, num_rows_y), dtype=cp.float32)\n",
        "    block_dim = (16, 16)\n",
        "    grid_dim = (int((num_rows_x + block_dim[0] - 1) / block_dim[0]), int((num_rows_y + block_dim[1] - 1) / block_dim[1]))\n",
        "    compute_distances(grid_dim, block_dim, (X, Y, D, num_rows_x, num_rows_y, num_cols_x))\n",
        "    return D\n",
        "\n",
        "# Compute distances from test set to training set\n",
        "start_time = time.time()\n",
        "D_test_gpu = compute_distances_gpu(X_test_gpu, X_train_gpu)\n",
        "elapsed_time_compute = time.time() - start_time"
      ],
      "metadata": {
        "id": "DAOmYCqQp39P"
      },
      "execution_count": 3,
      "outputs": []
    },
    {
      "cell_type": "markdown",
      "source": [
        "Step 4: KNN Classification"
      ],
      "metadata": {
        "id": "NMIZKnWzMgaw"
      }
    },
    {
      "cell_type": "code",
      "source": [
        "# Define the number of neighbors\n",
        "k = 15\n",
        "\n",
        "# Function for kNN classification on GPU\n",
        "def knn_classification_gpu(D, y, k):\n",
        "    # Get indices of k smallest distances for each row\n",
        "    indices_k_nearest = cp.argsort(D, axis=1)[:, :k]\n",
        "    # Gather the labels of these nearest neighbors\n",
        "    nearest_labels = cp.array([y[i] for i in indices_k_nearest])\n",
        "    # Vote for the most common label\n",
        "    votes = cp.array([cp.bincount(labels, minlength=int(y.max()) + 1).argmax() for labels in nearest_labels])\n",
        "    return votes\n",
        "\n",
        "# Use the function for classification on GPU\n",
        "start_time_knn_gpu = time.time()\n",
        "predicted_labels_test_gpu = knn_classification_gpu(D_test_gpu, y_train_gpu, k)\n",
        "elapsed_time_knn_gpu = time.time() - start_time_knn_gpu\n",
        "print(f\"GPU kNN Classification Time: {elapsed_time_knn_gpu:.4f} seconds\")\n",
        "\n",
        "# Calculate accuracy for GPU predictions\n",
        "accuracy_gpu = cp.mean(predicted_labels_test_gpu == y_test_gpu).get() * 100\n",
        "print(f\"GPU Accuracy: {accuracy_gpu:.2f}%\")"
      ],
      "metadata": {
        "colab": {
          "base_uri": "https://localhost:8080/"
        },
        "id": "bQ0jeAEEFc9Z",
        "outputId": "25713ca2-c015-4078-f71d-cd164cebebe6"
      },
      "execution_count": 4,
      "outputs": [
        {
          "output_type": "stream",
          "name": "stdout",
          "text": [
            "GPU kNN Classification Time: 7.6447 seconds\n",
            "GPU Accuracy: 43.50%\n"
          ]
        }
      ]
    }
  ]
}